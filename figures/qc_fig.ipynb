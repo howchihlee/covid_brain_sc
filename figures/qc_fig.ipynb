{
 "cells": [
  {
   "cell_type": "code",
   "execution_count": 1,
   "metadata": {},
   "outputs": [],
   "source": [
    "import pandas as pd\n",
    "import scanpy as sc\n",
    "import numpy as np\n",
    "import matplotlib.pyplot as plt"
   ]
  },
  {
   "cell_type": "code",
   "execution_count": 2,
   "metadata": {},
   "outputs": [],
   "source": [
    "df_gene = pd.read_csv('./processed_data/clean_data/gene_expression.csv', index_col = 0)"
   ]
  },
  {
   "cell_type": "code",
   "execution_count": 3,
   "metadata": {},
   "outputs": [],
   "source": [
    "df_meta = pd.read_csv('./processed_data/clean_data/metadata.csv', index_col = 0)"
   ]
  },
  {
   "cell_type": "code",
   "execution_count": 4,
   "metadata": {},
   "outputs": [],
   "source": [
    "data_obj = sc.AnnData(df_gene, obs = df_meta, var = pd.DataFrame([], index = df_gene.columns))"
   ]
  },
  {
   "cell_type": "code",
   "execution_count": 5,
   "metadata": {},
   "outputs": [],
   "source": [
    "df_qc = sc.pp.calculate_qc_metrics(data_obj)"
   ]
  },
  {
   "cell_type": "code",
   "execution_count": 6,
   "metadata": {},
   "outputs": [
    {
     "data": {
      "text/plain": [
       "2817.0"
      ]
     },
     "execution_count": 6,
     "metadata": {},
     "output_type": "execute_result"
    }
   ],
   "source": [
    "np.median(df_qc[0].n_genes_by_counts)"
   ]
  },
  {
   "cell_type": "code",
   "execution_count": 7,
   "metadata": {},
   "outputs": [],
   "source": [
    "id2color = ['tab:blue'] * 4 + ['tab:red'] * 5\n",
    "#id2color = ['silver'] * 9\n",
    "id2display_id = ['Ctrl %d' %i for i in range(1, 5)] + ['Case %d' %i for i in range(1, 6)]"
   ]
  },
  {
   "cell_type": "code",
   "execution_count": 8,
   "metadata": {
    "scrolled": false
   },
   "outputs": [
    {
     "data": {
      "image/png": "[encoded data removed]",
      "text/plain": [
       "<Figure size 720x432 with 6 Axes>"
      ]
     },
     "metadata": {
      "needs_background": "light"
     },
     "output_type": "display_data"
    }
   ],
   "source": [
    "fig, axes = plt.subplots(2, 3, figsize = (10, 6), sharex = True)\n",
    "id2subject = sorted(set(df_meta.subject_id))\n",
    "\n",
    "for i, t in enumerate(set(df_meta.tissue)):\n",
    "    meta = df_meta[df_meta.tissue == t]\n",
    "    qc = df_qc[0][df_meta.tissue == t]\n",
    "      \n",
    "    y_cell = meta.groupby('subject_id').count().loc[id2subject].values[:, 0]\n",
    "    y_gene = qc.groupby(by = meta.subject_id).median().loc[id2subject].values[:, 0]\n",
    "    plt.xticks(range(len(id2subject)), id2display_id, rotation = 90)\n",
    "    plt.sca(axes[0, i])\n",
    "    plt.bar(range(len(y_cell)), y_cell, 0.75, color = id2color)\n",
    "    if i == 0:        \n",
    "        plt.ylabel('# cell', fontsize = 12)\n",
    "    \n",
    "    if t == 'choroidplexus':\n",
    "        plt.title('choroid plexus')\n",
    "    else:\n",
    "        plt.title(t)\n",
    "    \n",
    "    if i <= 2:\n",
    "        plt.ylim([0, 8000])   \n",
    "    if i != 0:\n",
    "        plt.yticks([])\n",
    "    \n",
    "    plt.sca(axes[1, i])\n",
    "    plt.bar(range(len(y_cell)), y_gene, 0.75, color = id2color)\n",
    "    \n",
    "    if i == 0:   \n",
    "        plt.ylabel('# gene', fontsize = 12)\n",
    "        \n",
    "    if i > 2:\n",
    "        plt.ylim([0, 4000])\n",
    "    if i != 0:\n",
    "        plt.yticks([])\n",
    "        \n",
    "plt.tight_layout()\n",
    "plt.savefig('figs/qc_gene_cell_count.pdf')\n",
    "plt.savefig('figs/png/qc_gene_cell_count.png', dpi=600)\n",
    "plt.show()"
   ]
  },
  {
   "cell_type": "code",
   "execution_count": 11,
   "metadata": {
    "scrolled": false
   },
   "outputs": [
    {
     "data": {
      "image/png": "[encoded data removed]",
      "text/plain": [
       "<Figure size 720x216 with 3 Axes>"
      ]
     },
     "metadata": {
      "needs_background": "light"
     },
     "output_type": "display_data"
    }
   ],
   "source": [
    "from scipy.stats import ttest_ind\n",
    "\n",
    "fig, axes = plt.subplots(1, 3, figsize = (10, 3), sharex = True)\n",
    "#id2subject = sorted(set(df_meta.subject_id))\n",
    "\n",
    "for i, t in enumerate(set(df_meta.tissue)):\n",
    "    meta = df_meta[df_meta.tissue == t]\n",
    "    qc = df_qc[0][df_meta.tissue == t]\n",
    "      \n",
    "    y_cell = meta.groupby('subject_id').count().loc[id2subject].values[:, 0]\n",
    "    y_gene = qc.groupby(by = meta.subject_id).median().loc[id2subject].values[:, 0]\n",
    "    y = y_gene\n",
    "\n",
    "    plt.sca(axes[i])\n",
    "    means = [np.mean(y[:4]), np.mean(y[4:])]\n",
    "    stds = [np.std(y[:4]), np.std(y[4:])]\n",
    "    #plt.errorbar([1, 2], means, stds)\n",
    "    plt.bar([1, 2], means, yerr=stds, color = ['tab:blue', 'tab:red'], capsize=10)\n",
    "    _, p = ttest_ind(y[:4], y[4:])\n",
    "    \n",
    "    ymax = max(y) * 1.1\n",
    "    \n",
    "    plt.ylim([0, ymax * 1.1])\n",
    "    plt.annotate('', xy=(1, ymax),xytext=(2, ymax),                     #draws an arrow from one set of coordinates to the other\n",
    "            arrowprops=dict(arrowstyle='-',facecolor='red'),   #sets style of arrow and colour\n",
    "            annotation_clip=False)                               #This enables the arrow to be outside of the plot\n",
    "\n",
    "    plt.text(1.2, ymax + 100, 'p = %.4f' % p)\n",
    "    plt.xticks([1, 2], ['Ctrl', 'COVID-19'])\n",
    "    \n",
    "    if t == 'choroidplexus':\n",
    "        plt.title('choroid plexus')\n",
    "    else:\n",
    "        plt.title(t)\n",
    "    if i == 0:\n",
    "        plt.ylabel('# gene', fontsize = 12)\n",
    "plt.tight_layout()\n",
    "plt.savefig('figs/qc_gene_count_vs_disease.pdf')\n",
    "plt.savefig('figs/png/qc_gene_count_vs_disease.png', dpi=600)\n",
    "plt.show()"
   ]
  },
  {
   "cell_type": "code",
   "execution_count": 10,
   "metadata": {},
   "outputs": [
    {
     "data": {
      "image/png": "[encoded data removed]",
      "text/plain": [
       "<Figure size 720x216 with 3 Axes>"
      ]
     },
     "metadata": {
      "needs_background": "light"
     },
     "output_type": "display_data"
    }
   ],
   "source": [
    "from scipy.stats import ttest_ind\n",
    "\n",
    "fig, axes = plt.subplots(1, 3, figsize = (10, 3), sharex = True)\n",
    "#id2subject = sorted(set(df_meta.subject_id))\n",
    "\n",
    "for i, t in enumerate(set(df_meta.tissue)):\n",
    "    meta = df_meta[df_meta.tissue == t]\n",
    "    qc = df_qc[0][df_meta.tissue == t]\n",
    "      \n",
    "    y_cell = meta.groupby('subject_id').count().loc[id2subject].values[:, 0]\n",
    "    y_gene = qc.groupby(by = meta.subject_id).median().loc[id2subject].values[:, 0]\n",
    "    y = y_cell\n",
    "\n",
    "    plt.sca(axes[i])\n",
    "    means = [np.mean(y[:4]), np.mean(y[4:])]\n",
    "    stds = [np.std(y[:4]), np.std(y[4:])]\n",
    "    #plt.errorbar([1, 2], means, stds)\n",
    "    plt.bar([1, 2], means, yerr=stds, color = ['tab:blue', 'tab:red'], capsize=10)\n",
    "    _, p = ttest_ind(y[:4], y[4:])\n",
    "    \n",
    "    ymax = max(y) * 1.1\n",
    "    \n",
    "    plt.ylim([0, ymax * 1.1])\n",
    "    plt.annotate('', xy=(1, ymax),xytext=(2, ymax),                     #draws an arrow from one set of coordinates to the other\n",
    "            arrowprops=dict(arrowstyle='-',facecolor='red'),   #sets style of arrow and colour\n",
    "            annotation_clip=False)                               #This enables the arrow to be outside of the plot\n",
    "\n",
    "    plt.text(1.2, ymax + 100, 'p = %.4f' % p)\n",
    "    plt.xticks([1, 2], ['Ctrl', 'COVID-19'])\n",
    "    \n",
    "    if t == 'choroidplexus':\n",
    "        plt.title('choroid plexus')\n",
    "    else:\n",
    "        plt.title(t)\n",
    "    if i == 0:\n",
    "        plt.ylabel('# cell', fontsize = 12)\n",
    "plt.tight_layout()\n",
    "plt.savefig('figs/qc_cell_count_vs_disease.pdf')\n",
    "plt.savefig('figs/png/qc_cell_count_vs_disease.png', dpi=600)\n",
    "plt.show()"
   ]
  },
  {
   "cell_type": "code",
   "execution_count": null,
   "metadata": {},
   "outputs": [],
   "source": []
  },
  {
   "cell_type": "code",
   "execution_count": null,
   "metadata": {},
   "outputs": [],
   "source": []
  }
 ],
 "metadata": {
  "kernelspec": {
   "display_name": "Python 3",
   "language": "python",
   "name": "python3"
  },
  "language_info": {
   "codemirror_mode": {
    "name": "ipython",
    "version": 3
   },
   "file_extension": ".py",
   "mimetype": "text/x-python",
   "name": "python",
   "nbconvert_exporter": "python",
   "pygments_lexer": "ipython3",
   "version": "3.8.5"
  }
 },
 "nbformat": 4,
 "nbformat_minor": 4
}
