{
 "cells": [
  {
   "cell_type": "code",
   "execution_count": 1,
   "metadata": {
    "scrolled": true
   },
   "outputs": [],
   "source": [
    "import pandas as pd\n",
    "import matplotlib.pyplot as plt\n",
    "%matplotlib inline\n",
    "import numpy as np\n",
    "\n",
    "df_meta = pd.read_csv('../processed_data/clean_data/metadata.csv', index_col = 0)\n"
   ]
  },
  {
   "cell_type": "code",
   "execution_count": 2,
   "metadata": {},
   "outputs": [],
   "source": [
    "tissueid2tissue = {ti:t for ti, t in zip(df_meta.tissue_id, df_meta.tissue)}\n",
    "subject2clinical = {v[0]:v[1] for v in df_meta[['subject_id', 'clinical']].values}\n",
    "pid2subject = {v[0]:v[1] for v in df_meta[['pid', 'subject_id']].values}\n",
    "    "
   ]
  },
  {
   "cell_type": "code",
   "execution_count": 3,
   "metadata": {},
   "outputs": [],
   "source": [
    "for fd in ['hallmark', 'kegg']:\n",
    "    fn_in = './%s/score.csv' % fd\n",
    "    fn_out = './%s/score_mean_tissue.csv' % fd\n",
    "\n",
    "    df_score = pd.read_csv(fn_in).T\n",
    "    id2pathway = list(df_score.columns)\n",
    "\n",
    "    df_score['celltype'] = df_meta.loc[df_score.index, 'celltype']\n",
    "    df_score['pid'] = df_meta.loc[df_score.index, 'pid']\n",
    "    df_score['subject_id'] = df_meta.loc[df_score.index, 'subject_id']\n",
    "    df_score['clinical'] = df_meta.loc[df_score.index, 'clinical']\n",
    "    df_score['tissue'] = df_meta.loc[df_score.index, 'tissue']\n",
    "    df_score['tissue_id'] = df_meta.loc[df_score.index, 'tissue_id']\n",
    "\n",
    "    df_mean = df_score.groupby(['pid', 'celltype', 'tissue_id']).mean()\n",
    "    index_mat = df_mean.index.values\n",
    "    df_mean = df_mean.fillna(0)\n",
    "\n",
    "    df_mean['subject_id'] = [pid2subject[i[0]] for i in index_mat]\n",
    "    df_mean['clinical'] = [subject2clinical[i] for i in df_mean.subject_id]\n",
    "    df_mean['tissue'] = [tissueid2tissue[i[2]] for i in index_mat]\n",
    "    df_mean['covid'] = (df_mean.clinical != 'Ctrl').astype('int')\n",
    "\n",
    "    df_mean = df_mean[['subject_id', 'tissue', 'clinical', 'covid'] + id2pathway]\n",
    "\n",
    "    df_mean.to_csv(fn_out)\n"
   ]
  },
  {
   "cell_type": "code",
   "execution_count": null,
   "metadata": {},
   "outputs": [],
   "source": []
  }
 ],
 "metadata": {
  "kernelspec": {
   "display_name": "Python 3",
   "language": "python",
   "name": "python3"
  },
  "language_info": {
   "codemirror_mode": {
    "name": "ipython",
    "version": 3
   },
   "file_extension": ".py",
   "mimetype": "text/x-python",
   "name": "python",
   "nbconvert_exporter": "python",
   "pygments_lexer": "ipython3",
   "version": "3.8.5"
  }
 },
 "nbformat": 4,
 "nbformat_minor": 2
}
