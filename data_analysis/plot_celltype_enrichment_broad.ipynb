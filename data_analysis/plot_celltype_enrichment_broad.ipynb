{
 "cells": [
  {
   "cell_type": "code",
   "execution_count": 1,
   "metadata": {},
   "outputs": [],
   "source": [
    "import pandas as pd\n",
    "from scipy import stats\n",
    "\n",
    "def get_fisher_exact(s1, s2, sbk):\n",
    "    n1 = len(s1 & s2 & sbk)\n",
    "    n2 = len(s1 & (sbk - s2))\n",
    "    n3 = len((sbk - s1) & s2)\n",
    "    n4 = len((sbk - s1) & (sbk - s2))\n",
    "\n",
    "    mat = [[n1, n2], [n3, n4]]\n",
    "\n",
    "    oddsratio, pvalue = stats.fisher_exact(mat, 'greater')\n",
    "    return oddsratio, pvalue"
   ]
  },
  {
   "cell_type": "code",
   "execution_count": 2,
   "metadata": {
    "scrolled": true
   },
   "outputs": [
    {
     "data": {
      "text/html": [
       "<div>\n",
       "<style scoped>\n",
       "    .dataframe tbody tr th:only-of-type {\n",
       "        vertical-align: middle;\n",
       "    }\n",
       "\n",
       "    .dataframe tbody tr th {\n",
       "        vertical-align: top;\n",
       "    }\n",
       "\n",
       "    .dataframe thead th {\n",
       "        text-align: right;\n",
       "    }\n",
       "</style>\n",
       "<table border=\"1\" class=\"dataframe\">\n",
       "  <thead>\n",
       "    <tr style=\"text-align: right;\">\n",
       "      <th></th>\n",
       "      <th>p_val</th>\n",
       "      <th>avg_logFC</th>\n",
       "      <th>pct.1</th>\n",
       "      <th>pct.2</th>\n",
       "      <th>p_val_adj</th>\n",
       "      <th>cluster</th>\n",
       "      <th>gene</th>\n",
       "    </tr>\n",
       "  </thead>\n",
       "  <tbody>\n",
       "    <tr>\n",
       "      <th>CHST11</th>\n",
       "      <td>0.0</td>\n",
       "      <td>3.765322</td>\n",
       "      <td>0.486</td>\n",
       "      <td>0.229</td>\n",
       "      <td>0.0</td>\n",
       "      <td>Epithelial</td>\n",
       "      <td>CHST11</td>\n",
       "    </tr>\n",
       "    <tr>\n",
       "      <th>CRPPA</th>\n",
       "      <td>0.0</td>\n",
       "      <td>3.044118</td>\n",
       "      <td>0.421</td>\n",
       "      <td>0.201</td>\n",
       "      <td>0.0</td>\n",
       "      <td>Epithelial</td>\n",
       "      <td>CRPPA</td>\n",
       "    </tr>\n",
       "    <tr>\n",
       "      <th>CACNB2</th>\n",
       "      <td>0.0</td>\n",
       "      <td>2.636977</td>\n",
       "      <td>0.492</td>\n",
       "      <td>0.287</td>\n",
       "      <td>0.0</td>\n",
       "      <td>Epithelial</td>\n",
       "      <td>CACNB2</td>\n",
       "    </tr>\n",
       "    <tr>\n",
       "      <th>GRM8</th>\n",
       "      <td>0.0</td>\n",
       "      <td>2.490999</td>\n",
       "      <td>0.436</td>\n",
       "      <td>0.211</td>\n",
       "      <td>0.0</td>\n",
       "      <td>Epithelial</td>\n",
       "      <td>GRM8</td>\n",
       "    </tr>\n",
       "    <tr>\n",
       "      <th>MYRIP</th>\n",
       "      <td>0.0</td>\n",
       "      <td>2.310992</td>\n",
       "      <td>0.467</td>\n",
       "      <td>0.183</td>\n",
       "      <td>0.0</td>\n",
       "      <td>Epithelial</td>\n",
       "      <td>MYRIP</td>\n",
       "    </tr>\n",
       "  </tbody>\n",
       "</table>\n",
       "</div>"
      ],
      "text/plain": [
       "        p_val  avg_logFC  pct.1  pct.2  p_val_adj     cluster    gene\n",
       "CHST11    0.0   3.765322  0.486  0.229        0.0  Epithelial  CHST11\n",
       "CRPPA     0.0   3.044118  0.421  0.201        0.0  Epithelial   CRPPA\n",
       "CACNB2    0.0   2.636977  0.492  0.287        0.0  Epithelial  CACNB2\n",
       "GRM8      0.0   2.490999  0.436  0.211        0.0  Epithelial    GRM8\n",
       "MYRIP     0.0   2.310992  0.467  0.183        0.0  Epithelial   MYRIP"
      ]
     },
     "execution_count": 2,
     "metadata": {},
     "output_type": "execute_result"
    }
   ],
   "source": [
    "df_deg = pd.read_csv('./GSE159812/seurat_markers.csv')\n",
    "df_deg.head()"
   ]
  },
  {
   "cell_type": "code",
   "execution_count": 3,
   "metadata": {},
   "outputs": [],
   "source": [
    "all_genes = set(df_deg.index)\n",
    "pathway2genes = {c: set(df[(df.avg_logFC > 0.69) & (df.p_val_adj < 0.05)].gene) for c, df in df_deg.groupby('cluster')}"
   ]
  },
  {
   "cell_type": "code",
   "execution_count": 4,
   "metadata": {
    "scrolled": true
   },
   "outputs": [],
   "source": [
    "df_mk = pd.read_csv('./markers/seurat_markers.csv')"
   ]
  },
  {
   "cell_type": "code",
   "execution_count": 5,
   "metadata": {},
   "outputs": [
    {
     "data": {
      "text/html": [
       "<div>\n",
       "<style scoped>\n",
       "    .dataframe tbody tr th:only-of-type {\n",
       "        vertical-align: middle;\n",
       "    }\n",
       "\n",
       "    .dataframe tbody tr th {\n",
       "        vertical-align: top;\n",
       "    }\n",
       "\n",
       "    .dataframe thead th {\n",
       "        text-align: right;\n",
       "    }\n",
       "</style>\n",
       "<table border=\"1\" class=\"dataframe\">\n",
       "  <thead>\n",
       "    <tr style=\"text-align: right;\">\n",
       "      <th></th>\n",
       "      <th>Unnamed: 0</th>\n",
       "      <th>p_val</th>\n",
       "      <th>avg_logFC</th>\n",
       "      <th>pct.1</th>\n",
       "      <th>pct.2</th>\n",
       "      <th>p_val_adj</th>\n",
       "      <th>cluster</th>\n",
       "      <th>gene</th>\n",
       "    </tr>\n",
       "  </thead>\n",
       "  <tbody>\n",
       "    <tr>\n",
       "      <th>0</th>\n",
       "      <td>SLC1A2</td>\n",
       "      <td>0.0</td>\n",
       "      <td>2.917139</td>\n",
       "      <td>0.995</td>\n",
       "      <td>0.251</td>\n",
       "      <td>0.0</td>\n",
       "      <td>Ast1</td>\n",
       "      <td>SLC1A2</td>\n",
       "    </tr>\n",
       "    <tr>\n",
       "      <th>1</th>\n",
       "      <td>ADGRV1</td>\n",
       "      <td>0.0</td>\n",
       "      <td>2.753823</td>\n",
       "      <td>0.994</td>\n",
       "      <td>0.285</td>\n",
       "      <td>0.0</td>\n",
       "      <td>Ast1</td>\n",
       "      <td>ADGRV1</td>\n",
       "    </tr>\n",
       "    <tr>\n",
       "      <th>2</th>\n",
       "      <td>GPC5</td>\n",
       "      <td>0.0</td>\n",
       "      <td>2.453697</td>\n",
       "      <td>0.994</td>\n",
       "      <td>0.308</td>\n",
       "      <td>0.0</td>\n",
       "      <td>Ast1</td>\n",
       "      <td>GPC5</td>\n",
       "    </tr>\n",
       "    <tr>\n",
       "      <th>3</th>\n",
       "      <td>NKAIN3</td>\n",
       "      <td>0.0</td>\n",
       "      <td>2.024368</td>\n",
       "      <td>0.971</td>\n",
       "      <td>0.184</td>\n",
       "      <td>0.0</td>\n",
       "      <td>Ast1</td>\n",
       "      <td>NKAIN3</td>\n",
       "    </tr>\n",
       "    <tr>\n",
       "      <th>4</th>\n",
       "      <td>GPM6A</td>\n",
       "      <td>0.0</td>\n",
       "      <td>1.967135</td>\n",
       "      <td>0.999</td>\n",
       "      <td>0.513</td>\n",
       "      <td>0.0</td>\n",
       "      <td>Ast1</td>\n",
       "      <td>GPM6A</td>\n",
       "    </tr>\n",
       "  </tbody>\n",
       "</table>\n",
       "</div>"
      ],
      "text/plain": [
       "  Unnamed: 0  p_val  avg_logFC  pct.1  pct.2  p_val_adj cluster    gene\n",
       "0     SLC1A2    0.0   2.917139  0.995  0.251        0.0    Ast1  SLC1A2\n",
       "1     ADGRV1    0.0   2.753823  0.994  0.285        0.0    Ast1  ADGRV1\n",
       "2       GPC5    0.0   2.453697  0.994  0.308        0.0    Ast1    GPC5\n",
       "3     NKAIN3    0.0   2.024368  0.971  0.184        0.0    Ast1  NKAIN3\n",
       "4      GPM6A    0.0   1.967135  0.999  0.513        0.0    Ast1   GPM6A"
      ]
     },
     "execution_count": 5,
     "metadata": {},
     "output_type": "execute_result"
    }
   ],
   "source": [
    "df_mk.head()"
   ]
  },
  {
   "cell_type": "code",
   "execution_count": 7,
   "metadata": {
    "scrolled": true
   },
   "outputs": [],
   "source": [
    "import glob \n",
    "\n",
    "id2key = sorted(pathway2genes)\n",
    "res = []\n",
    "id2ct = []\n",
    "#for fn in sorted(glob.glob('./*_mk.csv')):\n",
    "for ct, df in df_mk.groupby('cluster'):\n",
    "    df = df[df.p_val_adj < 0.05]\n",
    "    df = df.sort_values('avg_logFC', ascending=False,).iloc[:50]\n",
    "    sgenes = set(df.gene) & all_genes\n",
    "    vec = []\n",
    "    for p in id2key:\n",
    "        gs = pathway2genes[p]\n",
    "        oddr, pval = get_fisher_exact(gs, sgenes, all_genes)\n",
    "        vec.append(pval)\n",
    "    res.append(vec)\n",
    "    id2ct.append(ct)"
   ]
  },
  {
   "cell_type": "code",
   "execution_count": 8,
   "metadata": {
    "scrolled": true
   },
   "outputs": [
    {
     "data": {
      "text/html": [
       "<div>\n",
       "<style scoped>\n",
       "    .dataframe tbody tr th:only-of-type {\n",
       "        vertical-align: middle;\n",
       "    }\n",
       "\n",
       "    .dataframe tbody tr th {\n",
       "        vertical-align: top;\n",
       "    }\n",
       "\n",
       "    .dataframe thead th {\n",
       "        text-align: right;\n",
       "    }\n",
       "</style>\n",
       "<table border=\"1\" class=\"dataframe\">\n",
       "  <thead>\n",
       "    <tr style=\"text-align: right;\">\n",
       "      <th></th>\n",
       "      <th>Unnamed: 0</th>\n",
       "      <th>p_val</th>\n",
       "      <th>avg_logFC</th>\n",
       "      <th>pct.1</th>\n",
       "      <th>pct.2</th>\n",
       "      <th>p_val_adj</th>\n",
       "      <th>cluster</th>\n",
       "      <th>gene</th>\n",
       "    </tr>\n",
       "  </thead>\n",
       "  <tbody>\n",
       "    <tr>\n",
       "      <th>0</th>\n",
       "      <td>SLC1A2</td>\n",
       "      <td>0.000000</td>\n",
       "      <td>2.917139</td>\n",
       "      <td>0.995</td>\n",
       "      <td>0.251</td>\n",
       "      <td>0.0</td>\n",
       "      <td>Ast1</td>\n",
       "      <td>SLC1A2</td>\n",
       "    </tr>\n",
       "    <tr>\n",
       "      <th>1</th>\n",
       "      <td>ADGRV1</td>\n",
       "      <td>0.000000</td>\n",
       "      <td>2.753823</td>\n",
       "      <td>0.994</td>\n",
       "      <td>0.285</td>\n",
       "      <td>0.0</td>\n",
       "      <td>Ast1</td>\n",
       "      <td>ADGRV1</td>\n",
       "    </tr>\n",
       "    <tr>\n",
       "      <th>2</th>\n",
       "      <td>GPC5</td>\n",
       "      <td>0.000000</td>\n",
       "      <td>2.453697</td>\n",
       "      <td>0.994</td>\n",
       "      <td>0.308</td>\n",
       "      <td>0.0</td>\n",
       "      <td>Ast1</td>\n",
       "      <td>GPC5</td>\n",
       "    </tr>\n",
       "    <tr>\n",
       "      <th>3</th>\n",
       "      <td>NKAIN3</td>\n",
       "      <td>0.000000</td>\n",
       "      <td>2.024368</td>\n",
       "      <td>0.971</td>\n",
       "      <td>0.184</td>\n",
       "      <td>0.0</td>\n",
       "      <td>Ast1</td>\n",
       "      <td>NKAIN3</td>\n",
       "    </tr>\n",
       "    <tr>\n",
       "      <th>4</th>\n",
       "      <td>GPM6A</td>\n",
       "      <td>0.000000</td>\n",
       "      <td>1.967135</td>\n",
       "      <td>0.999</td>\n",
       "      <td>0.513</td>\n",
       "      <td>0.0</td>\n",
       "      <td>Ast1</td>\n",
       "      <td>GPM6A</td>\n",
       "    </tr>\n",
       "    <tr>\n",
       "      <th>...</th>\n",
       "      <td>...</td>\n",
       "      <td>...</td>\n",
       "      <td>...</td>\n",
       "      <td>...</td>\n",
       "      <td>...</td>\n",
       "      <td>...</td>\n",
       "      <td>...</td>\n",
       "      <td>...</td>\n",
       "    </tr>\n",
       "    <tr>\n",
       "      <th>26864</th>\n",
       "      <td>FNDC3A.6</td>\n",
       "      <td>0.005276</td>\n",
       "      <td>0.334872</td>\n",
       "      <td>0.521</td>\n",
       "      <td>0.631</td>\n",
       "      <td>1.0</td>\n",
       "      <td>Peri2</td>\n",
       "      <td>FNDC3A</td>\n",
       "    </tr>\n",
       "    <tr>\n",
       "      <th>26865</th>\n",
       "      <td>THRAP3.2</td>\n",
       "      <td>0.006601</td>\n",
       "      <td>0.287699</td>\n",
       "      <td>0.404</td>\n",
       "      <td>0.471</td>\n",
       "      <td>1.0</td>\n",
       "      <td>Peri2</td>\n",
       "      <td>THRAP3</td>\n",
       "    </tr>\n",
       "    <tr>\n",
       "      <th>26866</th>\n",
       "      <td>LIMS1.7</td>\n",
       "      <td>0.007603</td>\n",
       "      <td>0.376924</td>\n",
       "      <td>0.389</td>\n",
       "      <td>0.435</td>\n",
       "      <td>1.0</td>\n",
       "      <td>Peri2</td>\n",
       "      <td>LIMS1</td>\n",
       "    </tr>\n",
       "    <tr>\n",
       "      <th>26867</th>\n",
       "      <td>TAF3.1</td>\n",
       "      <td>0.008952</td>\n",
       "      <td>0.281138</td>\n",
       "      <td>0.296</td>\n",
       "      <td>0.399</td>\n",
       "      <td>1.0</td>\n",
       "      <td>Peri2</td>\n",
       "      <td>TAF3</td>\n",
       "    </tr>\n",
       "    <tr>\n",
       "      <th>26868</th>\n",
       "      <td>NFIC.3</td>\n",
       "      <td>0.009172</td>\n",
       "      <td>0.275568</td>\n",
       "      <td>0.403</td>\n",
       "      <td>0.466</td>\n",
       "      <td>1.0</td>\n",
       "      <td>Peri2</td>\n",
       "      <td>NFIC</td>\n",
       "    </tr>\n",
       "  </tbody>\n",
       "</table>\n",
       "<p>26869 rows × 8 columns</p>\n",
       "</div>"
      ],
      "text/plain": [
       "      Unnamed: 0     p_val  avg_logFC  pct.1  pct.2  p_val_adj cluster    gene\n",
       "0         SLC1A2  0.000000   2.917139  0.995  0.251        0.0    Ast1  SLC1A2\n",
       "1         ADGRV1  0.000000   2.753823  0.994  0.285        0.0    Ast1  ADGRV1\n",
       "2           GPC5  0.000000   2.453697  0.994  0.308        0.0    Ast1    GPC5\n",
       "3         NKAIN3  0.000000   2.024368  0.971  0.184        0.0    Ast1  NKAIN3\n",
       "4          GPM6A  0.000000   1.967135  0.999  0.513        0.0    Ast1   GPM6A\n",
       "...          ...       ...        ...    ...    ...        ...     ...     ...\n",
       "26864   FNDC3A.6  0.005276   0.334872  0.521  0.631        1.0   Peri2  FNDC3A\n",
       "26865   THRAP3.2  0.006601   0.287699  0.404  0.471        1.0   Peri2  THRAP3\n",
       "26866    LIMS1.7  0.007603   0.376924  0.389  0.435        1.0   Peri2   LIMS1\n",
       "26867     TAF3.1  0.008952   0.281138  0.296  0.399        1.0   Peri2    TAF3\n",
       "26868     NFIC.3  0.009172   0.275568  0.403  0.466        1.0   Peri2    NFIC\n",
       "\n",
       "[26869 rows x 8 columns]"
      ]
     },
     "execution_count": 8,
     "metadata": {},
     "output_type": "execute_result"
    }
   ],
   "source": [
    "df_mk"
   ]
  },
  {
   "cell_type": "code",
   "execution_count": 9,
   "metadata": {
    "scrolled": false
   },
   "outputs": [
    {
     "data": {
      "text/plain": [
       "<seaborn.matrix.ClusterGrid at 0x7f580ae87070>"
      ]
     },
     "execution_count": 9,
     "metadata": {},
     "output_type": "execute_result"
    },
    {
     "data": {
      "image/png": "[encoded data removed]",
      "text/plain": [
       "<Figure size 576x432 with 4 Axes>"
      ]
     },
     "metadata": {
      "needs_background": "light"
     },
     "output_type": "display_data"
    }
   ],
   "source": [
    "import numpy as np\n",
    "import seaborn as sns\n",
    "import matplotlib.pyplot as plt\n",
    "\n",
    "df = pd.DataFrame(-np.log10(np.array(res)))\n",
    "df.columns = id2key\n",
    "df.index = id2ct\n",
    "sns.clustermap(df.T, vmax = 20, cmap = 'Greens', \n",
    "               col_cluster=False, row_cluster=False, \n",
    "               figsize = (8, 6))\n",
    "#plt.savefig(\"figs/enrichment_chp.pdf\")"
   ]
  },
  {
   "cell_type": "code",
   "execution_count": 12,
   "metadata": {},
   "outputs": [
    {
     "data": {
      "image/png": "[encoded data removed]",
      "text/plain": [
       "<Figure size 576x288 with 2 Axes>"
      ]
     },
     "metadata": {
      "needs_background": "light"
     },
     "output_type": "display_data"
    }
   ],
   "source": [
    "import matplotlib.pyplot as plt\n",
    "\n",
    "fig, ax = plt.subplots(1, 1, figsize = (8, 4))\n",
    "sns.heatmap(df.T, vmax = 20, cmap = 'Greens', ax = ax)\n",
    "plt.savefig(\"figs/enrichment_broad.pdf\")\n",
    "plt.savefig(\"figs/png/enrichment_broad.png\", dpi = 600, bbox_inches='tight')"
   ]
  },
  {
   "cell_type": "code",
   "execution_count": null,
   "metadata": {},
   "outputs": [],
   "source": []
  }
 ],
 "metadata": {
  "kernelspec": {
   "display_name": "Python 3",
   "language": "python",
   "name": "python3"
  },
  "language_info": {
   "codemirror_mode": {
    "name": "ipython",
    "version": 3
   },
   "file_extension": ".py",
   "mimetype": "text/x-python",
   "name": "python",
   "nbconvert_exporter": "python",
   "pygments_lexer": "ipython3",
   "version": "3.8.5"
  }
 },
 "nbformat": 4,
 "nbformat_minor": 2
}
