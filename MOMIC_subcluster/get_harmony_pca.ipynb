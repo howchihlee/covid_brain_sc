{
 "cells": [
  {
   "cell_type": "code",
   "execution_count": 8,
   "metadata": {},
   "outputs": [],
   "source": [
    "import os\n",
    "import scipy.sparse as sp_sparse\n",
    "import scanpy as sc\n",
    "import numpy as np\n",
    "from anndata import AnnData\n",
    "import matplotlib.pyplot as plt\n",
    "%matplotlib inline\n",
    "import pandas as pd\n",
    "import harmonypy as hm"
   ]
  },
  {
   "cell_type": "code",
   "execution_count": null,
   "metadata": {},
   "outputs": [],
   "source": []
  },
  {
   "cell_type": "code",
   "execution_count": 9,
   "metadata": {},
   "outputs": [
    {
     "name": "stderr",
     "output_type": "stream",
     "text": [
      "2021-05-08 13:54:05,266 - harmonypy - INFO - Iteration 1 of 30\n",
      "2021-05-08 13:54:06,413 - harmonypy - INFO - Iteration 2 of 30\n",
      "2021-05-08 13:54:07,428 - harmonypy - INFO - Iteration 3 of 30\n",
      "2021-05-08 13:54:08,610 - harmonypy - INFO - Iteration 4 of 30\n",
      "2021-05-08 13:54:09,764 - harmonypy - INFO - Iteration 5 of 30\n",
      "2021-05-08 13:54:10,339 - harmonypy - INFO - Iteration 6 of 30\n",
      "2021-05-08 13:54:10,904 - harmonypy - INFO - Iteration 7 of 30\n",
      "2021-05-08 13:54:11,356 - harmonypy - INFO - Iteration 8 of 30\n",
      "2021-05-08 13:54:11,863 - harmonypy - INFO - Iteration 9 of 30\n",
      "2021-05-08 13:54:12,294 - harmonypy - INFO - Iteration 10 of 30\n",
      "2021-05-08 13:54:12,722 - harmonypy - INFO - Converged after 10 iterations\n",
      "2021-05-08 13:54:13,370 - harmonypy - INFO - Iteration 1 of 30\n",
      "2021-05-08 13:54:14,507 - harmonypy - INFO - Iteration 2 of 30\n",
      "2021-05-08 13:54:15,580 - harmonypy - INFO - Iteration 3 of 30\n",
      "2021-05-08 13:54:16,743 - harmonypy - INFO - Iteration 4 of 30\n",
      "2021-05-08 13:54:17,310 - harmonypy - INFO - Iteration 5 of 30\n",
      "2021-05-08 13:54:17,804 - harmonypy - INFO - Iteration 6 of 30\n",
      "2021-05-08 13:54:18,264 - harmonypy - INFO - Iteration 7 of 30\n",
      "2021-05-08 13:54:18,756 - harmonypy - INFO - Iteration 8 of 30\n",
      "2021-05-08 13:54:19,175 - harmonypy - INFO - Iteration 9 of 30\n",
      "2021-05-08 13:54:19,576 - harmonypy - INFO - Iteration 10 of 30\n",
      "2021-05-08 13:54:20,087 - harmonypy - INFO - Converged after 10 iterations\n",
      "2021-05-08 13:54:20,797 - harmonypy - INFO - Iteration 1 of 30\n",
      "2021-05-08 13:54:21,879 - harmonypy - INFO - Iteration 2 of 30\n",
      "2021-05-08 13:54:22,991 - harmonypy - INFO - Iteration 3 of 30\n",
      "2021-05-08 13:54:23,820 - harmonypy - INFO - Iteration 4 of 30\n",
      "2021-05-08 13:54:24,631 - harmonypy - INFO - Iteration 5 of 30\n",
      "2021-05-08 13:54:25,228 - harmonypy - INFO - Iteration 6 of 30\n",
      "2021-05-08 13:54:25,894 - harmonypy - INFO - Iteration 7 of 30\n",
      "2021-05-08 13:54:26,470 - harmonypy - INFO - Iteration 8 of 30\n",
      "2021-05-08 13:54:27,050 - harmonypy - INFO - Iteration 9 of 30\n",
      "2021-05-08 13:54:27,565 - harmonypy - INFO - Iteration 10 of 30\n",
      "2021-05-08 13:54:28,006 - harmonypy - INFO - Iteration 11 of 30\n",
      "2021-05-08 13:54:28,483 - harmonypy - INFO - Converged after 11 iterations\n"
     ]
    }
   ],
   "source": [
    "df_meta_sub = pd.read_csv('meta_v10k.csv')\n",
    "\n",
    "folder = './seurat/'\n",
    "df_pca = pd.read_csv(folder + 'seurat_pca.csv', index_col=0)\n",
    "df_meta = pd.read_csv('meta_v10k.csv', index_col = 0)\n",
    "df_meta = df_meta.loc[df_pca.index]\n",
    "df_meta.pid = [str(p) for p in df_meta.pid]\n",
    "\n",
    "for npc in [20, 50, 100]:\n",
    "    data_mat = df_pca.values[:, :npc].copy()\n",
    "    ho = hm.run_harmony(data_mat, df_meta, ['pid'], max_iter_harmony=30)\n",
    "    df_correctedd = pd.DataFrame(ho.Z_corr.T, index = df_pca.index, columns = df_pca.columns[:npc])\n",
    "    df_correctedd.to_csv(folder + 'harmony%d.csv' % npc)\n",
    "        "
   ]
  },
  {
   "cell_type": "code",
   "execution_count": null,
   "metadata": {},
   "outputs": [],
   "source": []
  }
 ],
 "metadata": {
  "kernelspec": {
   "display_name": "sc_env",
   "language": "python",
   "name": "sc_env"
  },
  "language_info": {
   "codemirror_mode": {
    "name": "ipython",
    "version": 3
   },
   "file_extension": ".py",
   "mimetype": "text/x-python",
   "name": "python",
   "nbconvert_exporter": "python",
   "pygments_lexer": "ipython3",
   "version": "3.8.5"
  }
 },
 "nbformat": 4,
 "nbformat_minor": 2
}
